{
 "cells": [
  {
   "cell_type": "code",
   "execution_count": 1,
   "metadata": {},
   "outputs": [],
   "source": [
    "import os\n",
    "import cv2\n",
    "\n",
    "os.environ[\"BLIS_NUM_THREADS\"] = \"8\"\n",
    "os.environ[\"OMP_NUM_THREADS\"] = \"8\"\n",
    "cv2.setNumThreads(8) \n",
    "\n",
    "from fast_bfmatcher.benchmark import benchmark_cc_matchers"
   ]
  },
  {
   "cell_type": "code",
   "execution_count": 2,
   "metadata": {},
   "outputs": [
    {
     "name": "stdout",
     "output_type": "stream",
     "text": [
      "TFL2BFMatcher requires eager mode to be enabled! Call tf.enable_eager_execution() first.\n",
      "Skipping tensorflow benchmark, got error: TFL2BFMatcher requires eager mode to be enabled! Call tf.enable_eager_execution() first.\n",
      "\n",
      ">> Benchmarking matchers ...\n",
      "fast                 calls : 100 steps took  1.363 [s], per step 13.631 [ms] \n",
      "opencv               calls : 100 steps took  5.346 [s], per step 53.464 [ms] \n",
      "numpy                calls : 100 steps took  4.941 [s], per step 49.406 [ms] \n",
      "\n",
      ">> Benchmarking distance matrix computation ...\n",
      "fast                 calls : 100 steps took  1.297 [s], per step 12.975 [ms] \n",
      "numpy                calls : 100 steps took  2.681 [s], per step 26.806 [ms] \n",
      "\n",
      ">> Benchmarking find row col min values and indices ...\n",
      "fast                 calls : 100 steps took  0.704 [s], per step  7.044 [ms] \n",
      "numpy                calls : 100 steps took  0.917 [s], per step  9.173 [ms] \n"
     ]
    }
   ],
   "source": [
    "benchmark_cc_matchers()"
   ]
  },
  {
   "cell_type": "markdown",
   "metadata": {},
   "source": [
    "# Matching benchmark"
   ]
  },
  {
   "cell_type": "code",
   "execution_count": 3,
   "metadata": {
    "scrolled": true
   },
   "outputs": [
    {
     "name": "stdout",
     "output_type": "stream",
     "text": [
      "fast-rt N=100: 1 steps took  0.002 [s], per step  2.327 [ms] \n",
      "fast-rt N=1100: 1 steps took  0.080 [s], per step 79.785 [ms] \n",
      "fast-rt N=2100: 1 steps took  0.175 [s], per step 174.967 [ms] \n",
      "fast-rt N=3100: 1 steps took  0.377 [s], per step 377.290 [ms] \n",
      "fast-rt N=4100: 1 steps took  0.820 [s], per step 820.261 [ms] \n",
      "fast-rt N=5100: 1 steps took  1.033 [s], per step 1032.558 [ms] \n",
      "fast-rt N=6100: 1 steps took  1.891 [s], per step 1891.159 [ms] \n",
      "fast-rt N=7100: 1 steps took  2.071 [s], per step 2070.629 [ms] \n",
      "fast-rt N=8100: 1 steps took  2.549 [s], per step 2549.266 [ms] \n",
      "fast-rt N=9100: 1 steps took  3.178 [s], per step 3178.379 [ms] \n",
      "fast-cc N=100: 1 steps took  0.002 [s], per step  2.210 [ms] \n",
      "fast-cc N=1100: 1 steps took  0.046 [s], per step 45.960 [ms] \n",
      "fast-cc N=2100: 1 steps took  0.204 [s], per step 204.089 [ms] \n",
      "fast-cc N=3100: 1 steps took  0.523 [s], per step 522.960 [ms] \n",
      "fast-cc N=4100: 1 steps took  0.922 [s], per step 922.291 [ms] \n",
      "fast-cc N=5100: 1 steps took  1.108 [s], per step 1108.467 [ms] \n",
      "fast-cc N=6100: 1 steps took  1.592 [s], per step 1592.160 [ms] \n",
      "fast-cc N=7100: 1 steps took  2.018 [s], per step 2017.570 [ms] \n",
      "fast-cc N=8100: 1 steps took  2.654 [s], per step 2654.123 [ms] \n",
      "fast-cc N=9100: 1 steps took  3.310 [s], per step 3309.691 [ms] \n",
      "fast-rt-cc N=100: 1 steps took  0.002 [s], per step  2.449 [ms] \n",
      "fast-rt-cc N=1100: 1 steps took  0.062 [s], per step 62.341 [ms] \n",
      "fast-rt-cc N=2100: 1 steps took  0.293 [s], per step 293.215 [ms] \n",
      "fast-rt-cc N=3100: 1 steps took  0.423 [s], per step 422.634 [ms] \n",
      "fast-rt-cc N=4100: 1 steps took  0.756 [s], per step 756.298 [ms] \n",
      "fast-rt-cc N=5100: 1 steps took  1.130 [s], per step 1130.471 [ms] \n",
      "fast-rt-cc N=6100: 1 steps took  1.584 [s], per step 1583.599 [ms] \n",
      "fast-rt-cc N=7100: 1 steps took  2.146 [s], per step 2145.686 [ms] \n",
      "fast-rt-cc N=8100: 1 steps took  2.831 [s], per step 2831.207 [ms] \n",
      "fast-rt-cc N=9100: 1 steps took  3.480 [s], per step 3479.510 [ms] \n",
      "opencv-rt N=100: 1 steps took  0.004 [s], per step  3.520 [ms] \n",
      "opencv-rt N=1100: 1 steps took  0.154 [s], per step 153.853 [ms] \n",
      "opencv-rt N=2100: 1 steps took  0.517 [s], per step 516.651 [ms] \n",
      "opencv-rt N=3100: 1 steps took  1.096 [s], per step 1096.466 [ms] \n",
      "opencv-rt N=4100: 1 steps took  1.970 [s], per step 1970.338 [ms] \n",
      "opencv-rt N=5100: 1 steps took  2.911 [s], per step 2910.840 [ms] \n",
      "opencv-rt N=6100: 1 steps took  4.421 [s], per step 4420.826 [ms] \n",
      "opencv-rt N=7100: 1 steps took  5.622 [s], per step 5621.501 [ms] \n",
      "opencv-rt N=8100: 1 steps took  7.335 [s], per step 7335.319 [ms] \n",
      "opencv-rt N=9100: 1 steps took  9.650 [s], per step 9649.921 [ms] \n",
      "opencv-cc N=100: 1 steps took  0.005 [s], per step  5.143 [ms] \n",
      "opencv-cc N=1100: 1 steps took  0.296 [s], per step 295.871 [ms] \n",
      "opencv-cc N=2100: 1 steps took  1.261 [s], per step 1261.386 [ms] \n",
      "opencv-cc N=3100: 1 steps took  2.325 [s], per step 2325.182 [ms] \n",
      "opencv-cc N=4100: 1 steps took  4.045 [s], per step 4044.945 [ms] \n",
      "opencv-cc N=5100: 1 steps took  7.115 [s], per step 7114.543 [ms] \n",
      "opencv-cc N=6100: 1 steps took  9.091 [s], per step 9090.796 [ms] \n",
      "opencv-cc N=7100: 1 steps took 11.875 [s], per step 11875.440 [ms] \n",
      "opencv-cc N=8100: 1 steps took 15.592 [s], per step 15592.006 [ms] \n",
      "opencv-cc N=9100: 1 steps took 20.233 [s], per step 20232.603 [ms] \n"
     ]
    }
   ],
   "source": [
    "from fast_bfmatcher.benchmark import benchmark_cc_rt_size_scan\n",
    "import pandas as pd\n",
    "metrics = benchmark_cc_rt_size_scan(step = 1000)"
   ]
  },
  {
   "cell_type": "code",
   "execution_count": 4,
   "metadata": {},
   "outputs": [
    {
     "data": {
      "text/plain": [
       "Text(0, 0.5, 'Time [ms]')"
      ]
     },
     "execution_count": 4,
     "metadata": {},
     "output_type": "execute_result"
    },
    {
     "data": {
      "image/png": "[encoded data removed]",
      "text/plain": [
       "<Figure size 720x360 with 1 Axes>"
      ]
     },
     "metadata": {
      "needs_background": "light"
     },
     "output_type": "display_data"
    }
   ],
   "source": [
    "df = pd.DataFrame(metrics)\n",
    "ax = df.set_index(\"size\").plot(lw=2, colormap='jet', marker='.', markersize=10, figsize=(10, 5), fontsize=20)\n",
    "ax.set_xlabel(\"Dim\")\n",
    "ax.set_ylabel(\"Time [ms]\")"
   ]
  },
  {
   "cell_type": "markdown",
   "metadata": {},
   "source": [
    "# Distance matrix "
   ]
  },
  {
   "cell_type": "code",
   "execution_count": 5,
   "metadata": {},
   "outputs": [
    {
     "name": "stdout",
     "output_type": "stream",
     "text": [
      "922 ms ± 68.4 ms per loop (mean ± std. dev. of 7 runs, 3 loops each)\n"
     ]
    }
   ],
   "source": [
    "import numpy as np\n",
    "from scipy.spatial import distance_matrix\n",
    "\n",
    "X = np.random.randn(1000, 512).astype(np.float32)\n",
    "%timeit -n 3 distance_matrix(X, X)"
   ]
  },
  {
   "cell_type": "code",
   "execution_count": 6,
   "metadata": {},
   "outputs": [
    {
     "name": "stdout",
     "output_type": "stream",
     "text": [
      "The slowest run took 9.07 times longer than the fastest. This could mean that an intermediate result is being cached.\n",
      "11.4 ms ± 10.1 ms per loop (mean ± std. dev. of 7 runs, 3 loops each)\n"
     ]
    }
   ],
   "source": [
    "from fast_bfmatcher import l2_distance_matrix\n",
    "%timeit -n 3 l2_distance_matrix(X, X)"
   ]
  },
  {
   "cell_type": "code",
   "execution_count": 7,
   "metadata": {},
   "outputs": [
    {
     "data": {
      "text/plain": [
       "0.0006924857202005975"
      ]
     },
     "execution_count": 7,
     "metadata": {},
     "output_type": "execute_result"
    }
   ],
   "source": [
    "D1 = distance_matrix(X, X)\n",
    "D2 = np.sqrt(np.maximum(l2_distance_matrix(X, X), 0))\n",
    "\n",
    "np.abs(D1 - D2).max() / D1.max()"
   ]
  },
  {
   "cell_type": "code",
   "execution_count": null,
   "metadata": {},
   "outputs": [],
   "source": []
  }
 ],
 "metadata": {
  "kernelspec": {
   "display_name": "backend",
   "language": "python",
   "name": "backend"
  },
  "language_info": {
   "codemirror_mode": {
    "name": "ipython",
    "version": 3
   },
   "file_extension": ".py",
   "mimetype": "text/x-python",
   "name": "python",
   "nbconvert_exporter": "python",
   "pygments_lexer": "ipython3",
   "version": "3.6.6"
  }
 },
 "nbformat": 4,
 "nbformat_minor": 4
}
